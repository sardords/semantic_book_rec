{
 "cells": [
  {
   "cell_type": "code",
   "execution_count": null,
   "id": "4751eb88",
   "metadata": {},
   "outputs": [],
   "source": [
    "from langchain_community.document_loaders import TextLoader\n",
    "from langchain_text_splitters import CharacterTextSplitter\n",
    "from langchain_community.embeddings import HuggingFaceEmbeddings\n",
    "from langchain_chroma import Chroma\n",
    "\n",
    "import pandas as pd"
   ]
  },
  {
   "cell_type": "code",
   "execution_count": null,
   "id": "208b2e0d",
   "metadata": {},
   "outputs": [],
   "source": [
    "books = pd.read_csv(\"books_cleaned.csv\")"
   ]
  },
  {
   "cell_type": "code",
   "execution_count": null,
   "id": "e5a17a8e",
   "metadata": {},
   "outputs": [],
   "source": [
    "books['tagged_description']"
   ]
  },
  {
   "cell_type": "code",
   "execution_count": null,
   "id": "01952ce9",
   "metadata": {},
   "outputs": [],
   "source": [
    "books['tagged_description'].to_csv(\"tagged_description.txt\", \n",
    "                                   sep=\"\\n\", \n",
    "                                   index=False, \n",
    "                                   header=False)"
   ]
  },
  {
   "cell_type": "code",
   "execution_count": null,
   "id": "8fec59fe",
   "metadata": {},
   "outputs": [],
   "source": [
    "raw_documents = TextLoader(\"tagged_description.txt\").load()\n",
    "text_splitter = CharacterTextSplitter(chunk_size = 1, chunk_overlap = 0, separator=\"\\n\")\n",
    "documents = text_splitter.split_documents(raw_documents)"
   ]
  },
  {
   "cell_type": "code",
   "execution_count": null,
   "id": "44c28351",
   "metadata": {},
   "outputs": [],
   "source": [
    "documents[0]"
   ]
  },
  {
   "cell_type": "code",
   "execution_count": null,
   "id": "ef47f374",
   "metadata": {},
   "outputs": [],
   "source": [
    "model_name = \"all-MiniLM-L6-v2\"\n",
    "\n",
    "print(f\"Initializing embedding model: {model_name} (this may download the model on first run)...\")\n",
    "embeddings = HuggingFaceEmbeddings(\n",
    "    model_name=model_name\n",
    ")"
   ]
  },
  {
   "cell_type": "code",
   "execution_count": null,
   "id": "a9b60f8f",
   "metadata": {},
   "outputs": [],
   "source": [
    "vectorstore = Chroma.from_documents(\n",
    "    documents=documents, \n",
    "    embedding=embeddings\n",
    ")"
   ]
  },
  {
   "cell_type": "code",
   "execution_count": null,
   "id": "410de929",
   "metadata": {},
   "outputs": [],
   "source": [
    "query = 'A book to teach children about nature'\n",
    "docs = vectorstore.similarity_search(query, k = 10)"
   ]
  },
  {
   "cell_type": "code",
   "execution_count": null,
   "id": "db414b95",
   "metadata": {},
   "outputs": [],
   "source": [
    "docs[0]"
   ]
  },
  {
   "cell_type": "code",
   "execution_count": null,
   "id": "58c8ab56",
   "metadata": {},
   "outputs": [],
   "source": [
    "def retrieve_semantic_recommendations(\n",
    "    query: str,\n",
    "    top_k: int = 10\n",
    ") -> pd.DataFrame:\n",
    "    recs = vectorstore.similarity_search(query, k=top_k)\n",
    "\n",
    "    books_list = []\n",
    "    for i in range(0, len(recs)):\n",
    "        books_list.append(int(recs[i].page_content.strip('\"').split()[0]))\n",
    "    \n",
    "    return books[books['isbn13'].isin(books_list)]"
   ]
  },
  {
   "cell_type": "code",
   "execution_count": null,
   "id": "f9da1fa0",
   "metadata": {},
   "outputs": [],
   "source": [
    "results = retrieve_semantic_recommendations(\"A book to teach children about nature\", 10)"
   ]
  },
  {
   "cell_type": "code",
   "execution_count": null,
   "id": "9a13e85e",
   "metadata": {},
   "outputs": [],
   "source": [
    "len(results)"
   ]
  },
  {
   "cell_type": "code",
   "execution_count": null,
   "id": "b4e7ea8f",
   "metadata": {},
   "outputs": [],
   "source": [
    "results"
   ]
  }
 ],
 "metadata": {
  "kernelspec": {
   "display_name": "book_env (3.12.3)",
   "language": "python",
   "name": "python3"
  },
  "language_info": {
   "codemirror_mode": {
    "name": "ipython",
    "version": 3
   },
   "file_extension": ".py",
   "mimetype": "text/x-python",
   "name": "python",
   "nbconvert_exporter": "python",
   "pygments_lexer": "ipython3",
   "version": "3.12.3"
  }
 },
 "nbformat": 4,
 "nbformat_minor": 5
}
