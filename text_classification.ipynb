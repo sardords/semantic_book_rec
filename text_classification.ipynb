{
 "cells": [
  {
   "cell_type": "code",
   "execution_count": null,
   "id": "7f998351",
   "metadata": {},
   "outputs": [],
   "source": [
    "import pandas as pd\n",
    "from transformers import pipeline\n",
    "\n",
    "pipe = pipeline(\"zero-shot-classification\", model=\"facebook/bart-large-mnli\")"
   ]
  },
  {
   "cell_type": "code",
   "execution_count": null,
   "id": "d9f6f6e4",
   "metadata": {},
   "outputs": [],
   "source": [
    "books = pd.read_csv(\"books_cleaned.csv\")"
   ]
  },
  {
   "cell_type": "code",
   "execution_count": null,
   "id": "497048d1",
   "metadata": {},
   "outputs": [],
   "source": [
    "books[\"categories\"].value_counts().reset_index().head(15)"
   ]
  },
  {
   "cell_type": "code",
   "execution_count": null,
   "id": "ff26536d",
   "metadata": {},
   "outputs": [],
   "source": [
    "category_maping = {\n",
    "    'Fiction': \"Fiction\", \n",
    "    'Juvenile Fiction': \"Children's Fiction\", \n",
    "    'Biography & Autobiography': \"Nonfiction\",\n",
    "    'History': \"Nonfiction\",\n",
    "    'Literary Criticism': \"Nonfiction\",\n",
    "    'Philosophy': \"Nonfiction\",\n",
    "    'Religion': \"Nonfiction\",\n",
    "    'Comics & Graphic Novels': \"Fiction\",\n",
    "    'Drama': \"Fiction\",\n",
    "    'Juvenile Nonfiction': \"Children's Nonfiction\",\n",
    "    'Science': \"Nonfiction\",\n",
    "    'Poetry': \"Fiction\"\n",
    "}\n",
    "\n",
    "books['simple_category'] = books['categories'].map(category_maping)"
   ]
  },
  {
   "cell_type": "code",
   "execution_count": null,
   "id": "c77b1c6f",
   "metadata": {},
   "outputs": [],
   "source": [
    "books.head(5)"
   ]
  },
  {
   "cell_type": "code",
   "execution_count": null,
   "id": "1637ab41",
   "metadata": {},
   "outputs": [],
   "source": [
    "len(books[~books['simple_category'].isna()])"
   ]
  },
  {
   "cell_type": "code",
   "execution_count": null,
   "id": "0c64fdc4",
   "metadata": {},
   "outputs": [],
   "source": [
    "import numpy as np"
   ]
  },
  {
   "cell_type": "code",
   "execution_count": null,
   "id": "cb43a28f",
   "metadata": {},
   "outputs": [],
   "source": [
    "def classify_sequence(sequence, categories = [\"Fiction\", \"Nonfiction\"]):\n",
    "    out = pipe(sequence, categories)\n",
    "    max_index = np.argmax(out[\"scores\"])\n",
    "    max_label = out[\"labels\"][max_index]\n",
    "    return max_label"
   ]
  },
  {
   "cell_type": "code",
   "execution_count": null,
   "id": "9f09aaac",
   "metadata": {},
   "outputs": [],
   "source": [
    "from tqdm import tqdm\n",
    "\n",
    "actual_categories = []\n",
    "predicted_categories = []\n",
    "labels =  [\"Fiction\", \"Nonfiction\"]\n",
    "\n",
    "fiction_df = books.loc[books[\"simple_category\"] == \"Fiction\", \"description\"].reset_index(drop=True)\n",
    "for i in tqdm(range(0, 200)):\n",
    "    seq = fiction_df[i]\n",
    "    predicted_categories += [classify_sequence(seq, labels)]\n",
    "    actual_categories += [\"Fiction\"]"
   ]
  },
  {
   "cell_type": "code",
   "execution_count": null,
   "id": "4fa74072",
   "metadata": {},
   "outputs": [],
   "source": [
    "predicted_categories"
   ]
  },
  {
   "cell_type": "code",
   "execution_count": null,
   "id": "97a31daa",
   "metadata": {},
   "outputs": [],
   "source": [
    "nonfiction_df = books.loc[books[\"simple_category\"] == \"Nonfiction\", \"description\"].reset_index(drop=True)\n",
    "for i in tqdm(range(0, 200)):\n",
    "    seq = nonfiction_df[i]\n",
    "    predicted_categories += [classify_sequence(seq, labels)]\n",
    "    actual_categories += [\"Nonfiction\"]"
   ]
  },
  {
   "cell_type": "code",
   "execution_count": null,
   "id": "41b89c93",
   "metadata": {},
   "outputs": [],
   "source": [
    "predictions_df = pd.DataFrame({\"actual_categories\": actual_categories, \"predicted_categories\": predicted_categories})\n",
    "predictions_df[\"is_correct\"] = np.where(predictions_df[\"actual_categories\"] == predictions_df[\"predicted_categories\"], 1, 0)\n",
    "predictions_df[\"is_correct\"].sum() / len(predictions_df)"
   ]
  },
  {
   "cell_type": "code",
   "execution_count": null,
   "id": "c2ad2022",
   "metadata": {},
   "outputs": [],
   "source": [
    "isbns = []\n",
    "predicted_cats = []\n",
    "\n",
    "missing_category_data = books.loc[books[\"simple_category\"].isna(), [\"isbn13\", \"description\"]].reset_index(drop=True)"
   ]
  },
  {
   "cell_type": "code",
   "execution_count": null,
   "id": "b9d6bac7",
   "metadata": {},
   "outputs": [],
   "source": [
    "for i in tqdm(range(0, len(missing_category_data))):\n",
    "    sequence = missing_category_data[\"description\"][i]\n",
    "    predicted_cats += [classify_sequence(sequence, labels)]\n",
    "    isbns += [missing_category_data[\"isbn13\"][i]]"
   ]
  },
  {
   "cell_type": "code",
   "execution_count": null,
   "id": "66962aac",
   "metadata": {},
   "outputs": [],
   "source": [
    "missing_predicted_df = pd.DataFrame({'isbn13': isbns, 'predicted_categories': predicted_cats})"
   ]
  },
  {
   "cell_type": "code",
   "execution_count": null,
   "id": "e11c859b",
   "metadata": {},
   "outputs": [],
   "source": [
    "missing_predicted_df"
   ]
  },
  {
   "cell_type": "code",
   "execution_count": null,
   "id": "4541cbb9",
   "metadata": {},
   "outputs": [],
   "source": [
    "books = pd.merge(books, missing_predicted_df, on=\"isbn13\", how=\"left\")"
   ]
  },
  {
   "cell_type": "code",
   "execution_count": null,
   "id": "2d98f5d6",
   "metadata": {},
   "outputs": [],
   "source": [
    "books"
   ]
  },
  {
   "cell_type": "code",
   "execution_count": null,
   "id": "80335727",
   "metadata": {},
   "outputs": [],
   "source": [
    "books[\"simple_category\"] = np.where(books[\"simple_category\"].isna(), books[\"predicted_categories\"], books[\"simple_category\"])\n",
    "books.drop(columns=[\"predicted_categories\"], inplace=True)"
   ]
  },
  {
   "cell_type": "code",
   "execution_count": null,
   "id": "610a65ff",
   "metadata": {},
   "outputs": [],
   "source": [
    "books.isna().sum()"
   ]
  }
 ],
 "metadata": {
  "kernelspec": {
   "display_name": "book_env (3.12.3)",
   "language": "python",
   "name": "python3"
  },
  "language_info": {
   "codemirror_mode": {
    "name": "ipython",
    "version": 3
   },
   "file_extension": ".py",
   "mimetype": "text/x-python",
   "name": "python",
   "nbconvert_exporter": "python",
   "pygments_lexer": "ipython3",
   "version": "3.12.3"
  }
 },
 "nbformat": 4,
 "nbformat_minor": 5
}
