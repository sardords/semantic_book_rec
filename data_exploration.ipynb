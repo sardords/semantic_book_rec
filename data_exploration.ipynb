{
 "cells": [
  {
   "cell_type": "code",
   "execution_count": null,
   "id": "22307c8f",
   "metadata": {},
   "outputs": [],
   "source": [
    "import kagglehub\n",
    "\n",
    "# Download latest version\n",
    "path = kagglehub.dataset_download(\"dylanjcastillo/7k-books-with-metadata\")\n",
    "\n",
    "print(\"Path to dataset files:\", path)"
   ]
  },
  {
   "cell_type": "code",
   "execution_count": null,
   "id": "86b9050d",
   "metadata": {},
   "outputs": [],
   "source": [
    "import pandas as pd\n",
    "import numpy as np\n",
    "import time\n",
    "import requests"
   ]
  },
  {
   "cell_type": "code",
   "execution_count": null,
   "id": "7497eaec",
   "metadata": {},
   "outputs": [],
   "source": [
    "books = pd.read_csv(f\"{path}/books.csv\")"
   ]
  },
  {
   "cell_type": "code",
   "execution_count": null,
   "id": "360f7ee4",
   "metadata": {},
   "outputs": [],
   "source": [
    "books.head(5)"
   ]
  },
  {
   "cell_type": "code",
   "execution_count": null,
   "id": "9e26841d",
   "metadata": {},
   "outputs": [],
   "source": [
    "summary = books.describe(include=\"all\").transpose()\n",
    "summary[\"missing_values\"] = books.isna().sum()\n",
    "summary[\"non_missing_values\"] = books.notna().sum()\n",
    "summary"
   ]
  },
  {
   "cell_type": "code",
   "execution_count": null,
   "id": "02b2ceed",
   "metadata": {},
   "outputs": [],
   "source": [
    "import seaborn as sns\n",
    "import matplotlib.pyplot as plt"
   ]
  },
  {
   "cell_type": "code",
   "execution_count": null,
   "id": "8906af01",
   "metadata": {},
   "outputs": [],
   "source": [
    "ax = plt.axes()\n",
    "sns.heatmap(books.isna().transpose(), cbar=False, ax=ax)\n",
    "\n",
    "plt.xlabel(\"Column\")\n",
    "plt.ylabel(\"Missing values\")\n",
    "\n",
    "plt.show()"
   ]
  },
  {
   "cell_type": "code",
   "execution_count": null,
   "id": "84c50cb9",
   "metadata": {},
   "outputs": [],
   "source": [
    "books['missing_description'] = np.where(books['description'].isna(), 1, 0)\n",
    "books['age_of_book'] = 2025 - books['published_year']\n",
    "\n",
    "columns_of_interest = [\"num_pages\", \"age_of_book\", \"missing_description\", \"average_rating\"]\n",
    "correlation_matrix = books[columns_of_interest].corr(method='spearman')\n",
    "\n",
    "sns.set_theme(style='white')\n",
    "plt.figure(figsize=(8,6))\n",
    "heatmap = sns.heatmap(correlation_matrix, annot=True, fmt='.2f', cmap='coolwarm', cbar_kws={'label': \"Spearman correlation\"})\n",
    "heatmap.set_title(\"Correlation matrix\")\n",
    "plt.show()"
   ]
  },
  {
   "cell_type": "markdown",
   "id": "9d904009",
   "metadata": {},
   "source": [
    "Filling missing description for books"
   ]
  },
  {
   "cell_type": "code",
   "execution_count": null,
   "id": "af12688e",
   "metadata": {},
   "outputs": [],
   "source": [
    "def fetch_description(isbn):\n",
    "    url = f\"https://www.googleapis.com/books/v1/volumes?q=isbn:{isbn}\"\n",
    "    try:\n",
    "        response = requests.get(url, timeout=5)\n",
    "        data = response.json()\n",
    "        items = data.get(\"items\")\n",
    "        if items:\n",
    "            volume_info = items[0].get(\"volumeInfo\", {})\n",
    "            return volume_info.get(\"description\")\n",
    "    except Exception as e:\n",
    "        print(f\"Error fetching ISBN {isbn}: {e}\")\n",
    "    return None\n",
    "\n",
    "\n",
    "for i, row in books[books['description'].isna()].iterrows():\n",
    "    isbn = row['isbn10']\n",
    "    title = row['title']\n",
    "    desc = fetch_description(isbn)\n",
    "    if desc:\n",
    "        books.at[i, 'description'] = desc\n",
    "        print(f\"Filled description for ISBN {isbn} and title {title}\")\n",
    "    else:\n",
    "        print(f\"No description found for ISBN {isbn} and title {title}\")\n",
    "    time.sleep(0.1)  "
   ]
  },
  {
   "cell_type": "code",
   "execution_count": null,
   "id": "42e0b44f",
   "metadata": {},
   "outputs": [],
   "source": [
    "books.isna().sum()"
   ]
  },
  {
   "cell_type": "code",
   "execution_count": null,
   "id": "8466fbf3",
   "metadata": {},
   "outputs": [],
   "source": [
    "books_missing = books[books['description'].isna() |\n",
    "      books['num_pages'].isna() |\n",
    "      books['average_rating'].isna() |\n",
    "      books['published_year'].isna() \n",
    "] \n",
    "\n",
    "books = books[~books['isbn10'].isin(books_missing['isbn10'])]"
   ]
  },
  {
   "cell_type": "code",
   "execution_count": null,
   "id": "bce1df29",
   "metadata": {},
   "outputs": [],
   "source": [
    "books.isna().sum()"
   ]
  },
  {
   "cell_type": "markdown",
   "id": "008366da",
   "metadata": {},
   "source": [
    "Category of the book"
   ]
  },
  {
   "cell_type": "code",
   "execution_count": null,
   "id": "06ef37fe",
   "metadata": {},
   "outputs": [],
   "source": [
    "books['categories'].value_counts().reset_index().sort_values(\"count\", ascending=False)"
   ]
  },
  {
   "cell_type": "markdown",
   "id": "96609060",
   "metadata": {},
   "source": [
    "Number of words in description"
   ]
  },
  {
   "cell_type": "code",
   "execution_count": null,
   "id": "554f2d7c",
   "metadata": {},
   "outputs": [],
   "source": [
    "books[\"words_in_desc\"] = books['description'].str.split().str.len()"
   ]
  },
  {
   "cell_type": "code",
   "execution_count": null,
   "id": "a3c2ccd7",
   "metadata": {},
   "outputs": [],
   "source": [
    "sns.set_theme(style=\"whitegrid\")\n",
    "plt.figure(figsize=(10,6))\n",
    "\n",
    "sns.histplot(books['words_in_desc'], bins=100)\n",
    "plt.xlabel(\"Number of words in description\")\n",
    "plt.ylabel(\"Number of books\")\n",
    "plt.title(\"Distribution of description lengths\")\n",
    "plt.show()\n"
   ]
  },
  {
   "cell_type": "code",
   "execution_count": null,
   "id": "91c1c589",
   "metadata": {},
   "outputs": [],
   "source": [
    "books.loc[books['words_in_desc'].between(1, 4), \"description\"]"
   ]
  },
  {
   "cell_type": "code",
   "execution_count": null,
   "id": "55503370",
   "metadata": {},
   "outputs": [],
   "source": [
    "books.loc[books['words_in_desc'].between(5, 14), \"description\"]"
   ]
  },
  {
   "cell_type": "code",
   "execution_count": null,
   "id": "4b06abb1",
   "metadata": {},
   "outputs": [],
   "source": [
    "books.loc[books['words_in_desc'].between(15, 24), \"description\"]"
   ]
  },
  {
   "cell_type": "code",
   "execution_count": null,
   "id": "68a1e9c0",
   "metadata": {},
   "outputs": [],
   "source": [
    "books.loc[books['words_in_desc'].between(25, 34), \"description\"]"
   ]
  },
  {
   "cell_type": "code",
   "execution_count": null,
   "id": "633a84be",
   "metadata": {},
   "outputs": [],
   "source": [
    "books = books[books['words_in_desc'] >= 25]"
   ]
  },
  {
   "cell_type": "code",
   "execution_count": null,
   "id": "ef8fcf6f",
   "metadata": {},
   "outputs": [],
   "source": [
    "len(books)"
   ]
  },
  {
   "cell_type": "markdown",
   "id": "87d6569a",
   "metadata": {},
   "source": [
    "Merging title and subtitle"
   ]
  },
  {
   "cell_type": "code",
   "execution_count": null,
   "id": "f7e5959c",
   "metadata": {},
   "outputs": [],
   "source": [
    "books[\"title_and_subtitle\"] = (np.where(books[\"subtitle\"].isna(), books[\"title\"], books[['title', 'subtitle']].astype(str).agg(\": \".join, axis=1)))"
   ]
  },
  {
   "cell_type": "code",
   "execution_count": null,
   "id": "8aab984a",
   "metadata": {},
   "outputs": [],
   "source": [
    "books"
   ]
  },
  {
   "cell_type": "markdown",
   "id": "e793baf2",
   "metadata": {},
   "source": [
    "Tagged description"
   ]
  },
  {
   "cell_type": "code",
   "execution_count": null,
   "id": "379898ed",
   "metadata": {},
   "outputs": [],
   "source": [
    "books['tagged_description'] = books[['isbn13', 'description']].astype(str).agg(\" \".join, axis=1)"
   ]
  },
  {
   "cell_type": "code",
   "execution_count": null,
   "id": "bd87fcb5",
   "metadata": {},
   "outputs": [],
   "source": [
    "books"
   ]
  },
  {
   "cell_type": "markdown",
   "id": "7c1e1365",
   "metadata": {},
   "source": [
    "Dropping some columns"
   ]
  },
  {
   "cell_type": "code",
   "execution_count": null,
   "id": "08660242",
   "metadata": {},
   "outputs": [],
   "source": [
    "books.drop(['subtitle', 'missing_description', \"age_of_book\", \"words_in_desc\"], axis=1).to_csv(\"books_cleaned.csv\", index=False)"
   ]
  }
 ],
 "metadata": {
  "kernelspec": {
   "display_name": "book_env (3.12.3)",
   "language": "python",
   "name": "python3"
  },
  "language_info": {
   "codemirror_mode": {
    "name": "ipython",
    "version": 3
   },
   "file_extension": ".py",
   "mimetype": "text/x-python",
   "name": "python",
   "nbconvert_exporter": "python",
   "pygments_lexer": "ipython3",
   "version": "3.12.3"
  }
 },
 "nbformat": 4,
 "nbformat_minor": 5
}
